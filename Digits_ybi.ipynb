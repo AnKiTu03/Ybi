{
  "nbformat": 4,
  "nbformat_minor": 0,
  "metadata": {
    "colab": {
      "provenance": []
    },
    "kernelspec": {
      "name": "python3",
      "display_name": "Python 3"
    },
    "language_info": {
      "name": "python"
    }
  },
  "cells": [
    {
      "cell_type": "markdown",
      "source": [
        "## **Import Library**"
      ],
      "metadata": {
        "id": "r7GrZzX0iTlV"
      }
    },
    {
      "cell_type": "code",
      "source": [
        "import pandas as pd\n",
        "import numpy as np\n",
        "import matplotlib.pyplot as plt\n"
      ],
      "metadata": {
        "id": "UkK6NH9DiW-X"
      },
      "execution_count": null,
      "outputs": []
    },
    {
      "cell_type": "markdown",
      "source": [
        "## **Import Data**"
      ],
      "metadata": {
        "id": "9lHPQj1XiOUc"
      }
    },
    {
      "cell_type": "code",
      "source": [
        "from sklearn.datasets import load_digits"
      ],
      "metadata": {
        "id": "zcU1fdnGho6M"
      },
      "execution_count": null,
      "outputs": []
    },
    {
      "cell_type": "markdown",
      "source": [
        "## **Describe Data**"
      ],
      "metadata": {
        "id": "7PUnimBoiX-x"
      }
    },
    {
      "cell_type": "code",
      "source": [
        "df =load_digits()\n",
        "print(df.data.shape)\n",
        "import matplotlib.pyplot as plt\n",
        "plt.gray()\n",
        "plt.matshow(df.images[0])\n",
        "plt.show()"
      ],
      "metadata": {
        "id": "kG15arusiZ8Z",
        "colab": {
          "base_uri": "https://localhost:8080/",
          "height": 473
        },
        "outputId": "10ba191a-7f07-416c-986c-19a8624f0786"
      },
      "execution_count": null,
      "outputs": [
        {
          "output_type": "stream",
          "name": "stdout",
          "text": [
            "(1797, 64)\n"
          ]
        },
        {
          "output_type": "display_data",
          "data": {
            "text/plain": [
              "<Figure size 640x480 with 0 Axes>"
            ]
          },
          "metadata": {}
        },
        {
          "output_type": "display_data",
          "data": {
            "text/plain": [
              "<Figure size 480x480 with 1 Axes>"
            ],
            "image/png": "[encoded data removed]"
          },
          "metadata": {}
        }
      ]
    },
    {
      "cell_type": "markdown",
      "source": [
        "## **Data Visualization**"
      ],
      "metadata": {
        "id": "oBGX4Ekniriz"
      }
    },
    {
      "cell_type": "code",
      "source": [
        "from pandas.core.arrays.sparse.array import interpolate_2d\n",
        "_,axes = plt.subplots(nrows =1 ,ncols =4 , figsize = (10,3))\n",
        "for ax,image ,label in zip(axes ,df.images,df.target):\n",
        "  ax.set_axis_off()\n",
        "  ax.imshow(image,cmap =plt.cm.gray_r ,interpolation = \"nearest\")\n",
        "  ax.set_title (\"Traning : %i\" %label)"
      ],
      "metadata": {
        "id": "lW-OIRK0iuzO",
        "colab": {
          "base_uri": "https://localhost:8080/",
          "height": 227
        },
        "outputId": "3a391430-7605-4204-b279-87aca6177e21"
      },
      "execution_count": null,
      "outputs": [
        {
          "output_type": "display_data",
          "data": {
            "text/plain": [
              "<Figure size 1000x300 with 4 Axes>"
            ],
            "image/png": "[encoded data removed]"
          },
          "metadata": {}
        }
      ]
    },
    {
      "cell_type": "markdown",
      "source": [
        "## **Data Preprocessing**"
      ],
      "metadata": {
        "id": "UqfyPOCYiiww"
      }
    },
    {
      "cell_type": "code",
      "source": [
        "df.images.shape"
      ],
      "metadata": {
        "id": "3cyr3fbGin0A",
        "colab": {
          "base_uri": "https://localhost:8080/"
        },
        "outputId": "542b70a5-9996-4757-a94f-28cd4f28796a"
      },
      "execution_count": null,
      "outputs": [
        {
          "output_type": "execute_result",
          "data": {
            "text/plain": [
              "(1797, 8, 8)"
            ]
          },
          "metadata": {},
          "execution_count": 16
        }
      ]
    },
    {
      "cell_type": "code",
      "source": [
        "df.images[0]"
      ],
      "metadata": {
        "colab": {
          "base_uri": "https://localhost:8080/"
        },
        "id": "Yt_HhZKH48Pj",
        "outputId": "dd578bd1-1d32-4b62-efcf-b31b842c2c05"
      },
      "execution_count": null,
      "outputs": [
        {
          "output_type": "execute_result",
          "data": {
            "text/plain": [
              "array([[ 0.,  0.,  5., 13.,  9.,  1.,  0.,  0.],\n",
              "       [ 0.,  0., 13., 15., 10., 15.,  5.,  0.],\n",
              "       [ 0.,  3., 15.,  2.,  0., 11.,  8.,  0.],\n",
              "       [ 0.,  4., 12.,  0.,  0.,  8.,  8.,  0.],\n",
              "       [ 0.,  5.,  8.,  0.,  0.,  9.,  8.,  0.],\n",
              "       [ 0.,  4., 11.,  0.,  1., 12.,  7.,  0.],\n",
              "       [ 0.,  2., 14.,  5., 10., 12.,  0.,  0.],\n",
              "       [ 0.,  0.,  6., 13., 10.,  0.,  0.,  0.]])"
            ]
          },
          "metadata": {},
          "execution_count": 26
        }
      ]
    },
    {
      "cell_type": "code",
      "source": [
        "n_samples = len(df.images)\n",
        "data = df.images.reshape((n_samples,-1))"
      ],
      "metadata": {
        "id": "ljy1f3Y95G9_"
      },
      "execution_count": null,
      "outputs": []
    },
    {
      "cell_type": "code",
      "source": [
        "data[0]"
      ],
      "metadata": {
        "colab": {
          "base_uri": "https://localhost:8080/"
        },
        "id": "loBFdRYI5Way",
        "outputId": "e2494aae-1ea4-4eef-98e7-75dbedade9e0"
      },
      "execution_count": null,
      "outputs": [
        {
          "output_type": "execute_result",
          "data": {
            "text/plain": [
              "array([ 0.,  0.,  5., 13.,  9.,  1.,  0.,  0.,  0.,  0., 13., 15., 10.,\n",
              "       15.,  5.,  0.,  0.,  3., 15.,  2.,  0., 11.,  8.,  0.,  0.,  4.,\n",
              "       12.,  0.,  0.,  8.,  8.,  0.,  0.,  5.,  8.,  0.,  0.,  9.,  8.,\n",
              "        0.,  0.,  4., 11.,  0.,  1., 12.,  7.,  0.,  0.,  2., 14.,  5.,\n",
              "       10., 12.,  0.,  0.,  0.,  0.,  6., 13., 10.,  0.,  0.,  0.])"
            ]
          },
          "metadata": {},
          "execution_count": 22
        }
      ]
    },
    {
      "cell_type": "code",
      "source": [
        "data[0].shape"
      ],
      "metadata": {
        "colab": {
          "base_uri": "https://localhost:8080/"
        },
        "id": "ndLaC10l5d_e",
        "outputId": "06a5b152-9901-4967-8866-fe4e193042b0"
      },
      "execution_count": null,
      "outputs": [
        {
          "output_type": "execute_result",
          "data": {
            "text/plain": [
              "(64,)"
            ]
          },
          "metadata": {},
          "execution_count": 23
        }
      ]
    },
    {
      "cell_type": "code",
      "source": [
        "data.shape"
      ],
      "metadata": {
        "colab": {
          "base_uri": "https://localhost:8080/"
        },
        "id": "_CiIJZdL5rLb",
        "outputId": "ddf557b4-bf35-40f7-a3c9-bf61c9302468"
      },
      "execution_count": null,
      "outputs": [
        {
          "output_type": "execute_result",
          "data": {
            "text/plain": [
              "(1797, 64)"
            ]
          },
          "metadata": {},
          "execution_count": 27
        }
      ]
    },
    {
      "cell_type": "code",
      "source": [
        "data.min()"
      ],
      "metadata": {
        "colab": {
          "base_uri": "https://localhost:8080/"
        },
        "id": "BpLR_T-a50-w",
        "outputId": "4c55fb37-ca86-468e-fb3c-cf2832605a81"
      },
      "execution_count": null,
      "outputs": [
        {
          "output_type": "execute_result",
          "data": {
            "text/plain": [
              "0.0"
            ]
          },
          "metadata": {},
          "execution_count": 29
        }
      ]
    },
    {
      "cell_type": "code",
      "source": [
        "data.max()"
      ],
      "metadata": {
        "colab": {
          "base_uri": "https://localhost:8080/"
        },
        "id": "UJTab-8w549c",
        "outputId": "7cdd6242-8545-4d51-c61d-eaae479d8acb"
      },
      "execution_count": null,
      "outputs": [
        {
          "output_type": "execute_result",
          "data": {
            "text/plain": [
              "16.0"
            ]
          },
          "metadata": {},
          "execution_count": 30
        }
      ]
    },
    {
      "cell_type": "code",
      "source": [
        "data =data/16"
      ],
      "metadata": {
        "id": "EDgN2FOG56vg"
      },
      "execution_count": null,
      "outputs": []
    },
    {
      "cell_type": "code",
      "source": [
        "data[0]"
      ],
      "metadata": {
        "colab": {
          "base_uri": "https://localhost:8080/"
        },
        "id": "qbldlZPi5-oR",
        "outputId": "1a8103d2-5a18-484b-8f5b-b77f391be9cd"
      },
      "execution_count": null,
      "outputs": [
        {
          "output_type": "execute_result",
          "data": {
            "text/plain": [
              "array([0.    , 0.    , 0.3125, 0.8125, 0.5625, 0.0625, 0.    , 0.    ,\n",
              "       0.    , 0.    , 0.8125, 0.9375, 0.625 , 0.9375, 0.3125, 0.    ,\n",
              "       0.    , 0.1875, 0.9375, 0.125 , 0.    , 0.6875, 0.5   , 0.    ,\n",
              "       0.    , 0.25  , 0.75  , 0.    , 0.    , 0.5   , 0.5   , 0.    ,\n",
              "       0.    , 0.3125, 0.5   , 0.    , 0.    , 0.5625, 0.5   , 0.    ,\n",
              "       0.    , 0.25  , 0.6875, 0.    , 0.0625, 0.75  , 0.4375, 0.    ,\n",
              "       0.    , 0.125 , 0.875 , 0.3125, 0.625 , 0.75  , 0.    , 0.    ,\n",
              "       0.    , 0.    , 0.375 , 0.8125, 0.625 , 0.    , 0.    , 0.    ])"
            ]
          },
          "metadata": {},
          "execution_count": 32
        }
      ]
    },
    {
      "cell_type": "markdown",
      "source": [
        "## **Define Target Variable (y) and Feature Variables (X)**"
      ],
      "metadata": {
        "id": "2jXJpdAuiwYW"
      }
    },
    {
      "cell_type": "code",
      "source": [],
      "metadata": {
        "id": "QBCakTuli57t"
      },
      "execution_count": null,
      "outputs": []
    },
    {
      "cell_type": "markdown",
      "source": [
        "## **Train Test Split**"
      ],
      "metadata": {
        "id": "90_0q_Pbi658"
      }
    },
    {
      "cell_type": "code",
      "source": [
        "from sklearn.model_selection import train_test_split\n",
        "X_train,X_test,y_train,y_test = train_test_split(data,df.target,test_size = 0.5)\n",
        "X_train.shape,X_test.shape,y_train.shape,y_test.shape"
      ],
      "metadata": {
        "id": "u60YYaOFi-Dw",
        "colab": {
          "base_uri": "https://localhost:8080/"
        },
        "outputId": "1254caf1-c5c9-47bd-b652-e255c6c28a54"
      },
      "execution_count": null,
      "outputs": [
        {
          "output_type": "execute_result",
          "data": {
            "text/plain": [
              "((898, 64), (899, 64), (898,), (899,))"
            ]
          },
          "metadata": {},
          "execution_count": 47
        }
      ]
    },
    {
      "cell_type": "markdown",
      "source": [
        "## **Random Forest Model**"
      ],
      "metadata": {
        "id": "cIhyseNria7W"
      }
    },
    {
      "cell_type": "code",
      "source": [
        "from sklearn.tree import DecisionTreeClassifier\n",
        "rf = DecisionTreeClassifier()\n",
        "rf.fit(X_train,y_train)"
      ],
      "metadata": {
        "id": "Toq58wpkjCw7",
        "colab": {
          "base_uri": "https://localhost:8080/",
          "height": 75
        },
        "outputId": "207b8c2d-2c33-4dc5-8fd1-7803c9112a06"
      },
      "execution_count": null,
      "outputs": [
        {
          "output_type": "execute_result",
          "data": {
            "text/plain": [
              "DecisionTreeClassifier()"
            ],
            "text/html": [
              "<style>#sk-container-id-3 {color: black;background-color: white;}#sk-container-id-3 pre{padding: 0;}#sk-container-id-3 div.sk-toggleable {background-color: white;}#sk-container-id-3 label.sk-toggleable__label {cursor: pointer;display: block;width: 100%;margin-bottom: 0;padding: 0.3em;box-sizing: border-box;text-align: center;}#sk-container-id-3 label.sk-toggleable__label-arrow:before {content: \"▸\";float: left;margin-right: 0.25em;color: #696969;}#sk-container-id-3 label.sk-toggleable__label-arrow:hover:before {color: black;}#sk-container-id-3 div.sk-estimator:hover label.sk-toggleable__label-arrow:before {color: black;}#sk-container-id-3 div.sk-toggleable__content {max-height: 0;max-width: 0;overflow: hidden;text-align: left;background-color: #f0f8ff;}#sk-container-id-3 div.sk-toggleable__content pre {margin: 0.2em;color: black;border-radius: 0.25em;background-color: #f0f8ff;}#sk-container-id-3 input.sk-toggleable__control:checked~div.sk-toggleable__content {max-height: 200px;max-width: 100%;overflow: auto;}#sk-container-id-3 input.sk-toggleable__control:checked~label.sk-toggleable__label-arrow:before {content: \"▾\";}#sk-container-id-3 div.sk-estimator input.sk-toggleable__control:checked~label.sk-toggleable__label {background-color: #d4ebff;}#sk-container-id-3 div.sk-label input.sk-toggleable__control:checked~label.sk-toggleable__label {background-color: #d4ebff;}#sk-container-id-3 input.sk-hidden--visually {border: 0;clip: rect(1px 1px 1px 1px);clip: rect(1px, 1px, 1px, 1px);height: 1px;margin: -1px;overflow: hidden;padding: 0;position: absolute;width: 1px;}#sk-container-id-3 div.sk-estimator {font-family: monospace;background-color: #f0f8ff;border: 1px dotted black;border-radius: 0.25em;box-sizing: border-box;margin-bottom: 0.5em;}#sk-container-id-3 div.sk-estimator:hover {background-color: #d4ebff;}#sk-container-id-3 div.sk-parallel-item::after {content: \"\";width: 100%;border-bottom: 1px solid gray;flex-grow: 1;}#sk-container-id-3 div.sk-label:hover label.sk-toggleable__label {background-color: #d4ebff;}#sk-container-id-3 div.sk-serial::before {content: \"\";position: absolute;border-left: 1px solid gray;box-sizing: border-box;top: 0;bottom: 0;left: 50%;z-index: 0;}#sk-container-id-3 div.sk-serial {display: flex;flex-direction: column;align-items: center;background-color: white;padding-right: 0.2em;padding-left: 0.2em;position: relative;}#sk-container-id-3 div.sk-item {position: relative;z-index: 1;}#sk-container-id-3 div.sk-parallel {display: flex;align-items: stretch;justify-content: center;background-color: white;position: relative;}#sk-container-id-3 div.sk-item::before, #sk-container-id-3 div.sk-parallel-item::before {content: \"\";position: absolute;border-left: 1px solid gray;box-sizing: border-box;top: 0;bottom: 0;left: 50%;z-index: -1;}#sk-container-id-3 div.sk-parallel-item {display: flex;flex-direction: column;z-index: 1;position: relative;background-color: white;}#sk-container-id-3 div.sk-parallel-item:first-child::after {align-self: flex-end;width: 50%;}#sk-container-id-3 div.sk-parallel-item:last-child::after {align-self: flex-start;width: 50%;}#sk-container-id-3 div.sk-parallel-item:only-child::after {width: 0;}#sk-container-id-3 div.sk-dashed-wrapped {border: 1px dashed gray;margin: 0 0.4em 0.5em 0.4em;box-sizing: border-box;padding-bottom: 0.4em;background-color: white;}#sk-container-id-3 div.sk-label label {font-family: monospace;font-weight: bold;display: inline-block;line-height: 1.2em;}#sk-container-id-3 div.sk-label-container {text-align: center;}#sk-container-id-3 div.sk-container {/* jupyter's `normalize.less` sets `[hidden] { display: none; }` but bootstrap.min.css set `[hidden] { display: none !important; }` so we also need the `!important` here to be able to override the default hidden behavior on the sphinx rendered scikit-learn.org. See: https://github.com/scikit-learn/scikit-learn/issues/21755 */display: inline-block !important;position: relative;}#sk-container-id-3 div.sk-text-repr-fallback {display: none;}</style><div id=\"sk-container-id-3\" class=\"sk-top-container\"><div class=\"sk-text-repr-fallback\"><pre>DecisionTreeClassifier()</pre><b>In a Jupyter environment, please rerun this cell to show the HTML representation or trust the notebook. <br />On GitHub, the HTML representation is unable to render, please try loading this page with nbviewer.org.</b></div><div class=\"sk-container\" hidden><div class=\"sk-item\"><div class=\"sk-estimator sk-toggleable\"><input class=\"sk-toggleable__control sk-hidden--visually\" id=\"sk-estimator-id-3\" type=\"checkbox\" checked><label for=\"sk-estimator-id-3\" class=\"sk-toggleable__label sk-toggleable__label-arrow\">DecisionTreeClassifier</label><div class=\"sk-toggleable__content\"><pre>DecisionTreeClassifier()</pre></div></div></div></div></div>"
            ]
          },
          "metadata": {},
          "execution_count": 48
        }
      ]
    },
    {
      "cell_type": "markdown",
      "source": [
        "## **Prediction**"
      ],
      "metadata": {
        "id": "8AzwG7oLjiQI"
      }
    },
    {
      "cell_type": "code",
      "source": [
        "y_pred = rf.predict(X_test)\n",
        "y_pred"
      ],
      "metadata": {
        "id": "lND3jJj_jhx4",
        "colab": {
          "base_uri": "https://localhost:8080/"
        },
        "outputId": "bb20c624-2ce4-4d2d-854d-372824a80d25"
      },
      "execution_count": null,
      "outputs": [
        {
          "output_type": "execute_result",
          "data": {
            "text/plain": [
              "array([7, 2, 6, 3, 0, 4, 3, 0, 4, 9, 0, 0, 1, 2, 9, 3, 3, 2, 5, 6, 7, 9,\n",
              "       1, 6, 4, 8, 6, 9, 5, 4, 6, 8, 0, 8, 7, 9, 6, 2, 1, 6, 6, 2, 1, 1,\n",
              "       1, 1, 8, 3, 0, 8, 3, 4, 1, 1, 7, 0, 5, 6, 4, 2, 4, 9, 7, 2, 2, 6,\n",
              "       2, 4, 5, 7, 1, 8, 3, 9, 8, 0, 1, 2, 4, 2, 8, 4, 0, 5, 5, 9, 1, 0,\n",
              "       2, 8, 8, 0, 5, 4, 0, 4, 5, 4, 3, 5, 7, 7, 0, 7, 0, 8, 5, 9, 5, 5,\n",
              "       6, 0, 6, 5, 6, 1, 4, 2, 3, 4, 6, 1, 4, 1, 0, 2, 2, 4, 9, 2, 8, 1,\n",
              "       7, 4, 3, 6, 9, 5, 1, 4, 4, 9, 1, 7, 0, 6, 7, 9, 6, 2, 3, 9, 4, 2,\n",
              "       4, 5, 0, 1, 0, 6, 2, 0, 4, 4, 6, 1, 2, 4, 7, 3, 9, 2, 5, 3, 3, 9,\n",
              "       9, 9, 5, 8, 3, 5, 7, 1, 4, 1, 9, 2, 0, 2, 2, 0, 2, 2, 3, 3, 2, 3,\n",
              "       5, 7, 4, 9, 4, 1, 4, 1, 8, 4, 3, 7, 3, 2, 3, 2, 4, 8, 1, 7, 7, 8,\n",
              "       4, 4, 7, 3, 1, 1, 4, 2, 5, 5, 0, 5, 5, 7, 0, 9, 7, 3, 5, 6, 9, 3,\n",
              "       1, 0, 0, 6, 5, 6, 8, 7, 8, 2, 9, 6, 2, 9, 6, 3, 5, 1, 3, 1, 8, 1,\n",
              "       4, 4, 4, 2, 1, 0, 4, 8, 1, 2, 4, 6, 3, 9, 2, 3, 4, 7, 2, 9, 4, 7,\n",
              "       5, 7, 7, 4, 5, 8, 5, 8, 4, 4, 4, 1, 7, 2, 3, 9, 7, 8, 8, 0, 9, 6,\n",
              "       9, 4, 3, 5, 4, 3, 8, 1, 6, 5, 0, 2, 4, 7, 4, 8, 0, 0, 7, 4, 9, 2,\n",
              "       9, 5, 5, 3, 2, 4, 9, 2, 4, 8, 9, 4, 7, 3, 1, 1, 1, 7, 8, 9, 6, 6,\n",
              "       5, 5, 4, 1, 7, 6, 7, 3, 3, 7, 4, 7, 9, 5, 7, 0, 1, 1, 9, 3, 8, 3,\n",
              "       5, 6, 5, 6, 0, 2, 4, 6, 4, 3, 3, 7, 0, 2, 9, 7, 2, 3, 9, 5, 0, 8,\n",
              "       9, 6, 6, 1, 0, 2, 1, 3, 8, 0, 6, 5, 7, 2, 1, 3, 8, 3, 4, 5, 4, 2,\n",
              "       5, 3, 6, 5, 7, 8, 6, 2, 2, 4, 9, 3, 8, 1, 3, 4, 9, 8, 9, 7, 0, 9,\n",
              "       4, 6, 9, 7, 0, 1, 9, 1, 1, 5, 9, 1, 3, 3, 9, 1, 2, 7, 6, 5, 2, 4,\n",
              "       7, 7, 8, 4, 5, 6, 7, 6, 3, 4, 8, 7, 7, 2, 9, 3, 7, 1, 9, 3, 9, 2,\n",
              "       6, 1, 3, 2, 5, 6, 8, 0, 7, 9, 4, 3, 3, 9, 7, 4, 3, 4, 7, 0, 7, 9,\n",
              "       5, 8, 1, 0, 8, 3, 7, 1, 3, 1, 4, 4, 1, 5, 9, 0, 2, 5, 4, 2, 0, 7,\n",
              "       7, 2, 8, 7, 6, 9, 3, 7, 8, 4, 8, 4, 7, 9, 8, 8, 9, 5, 0, 6, 8, 6,\n",
              "       2, 0, 1, 9, 5, 7, 1, 1, 8, 5, 1, 4, 6, 2, 5, 9, 6, 1, 4, 7, 1, 1,\n",
              "       3, 9, 3, 2, 4, 3, 0, 8, 0, 2, 8, 1, 6, 5, 7, 8, 1, 3, 4, 6, 4, 6,\n",
              "       1, 9, 6, 1, 2, 6, 8, 9, 0, 3, 7, 6, 7, 9, 9, 5, 3, 7, 9, 0, 2, 6,\n",
              "       5, 9, 2, 3, 8, 4, 7, 5, 6, 9, 1, 5, 0, 2, 8, 4, 7, 8, 4, 5, 1, 6,\n",
              "       6, 6, 8, 1, 7, 4, 2, 7, 7, 2, 3, 3, 0, 9, 3, 7, 9, 4, 5, 5, 5, 6,\n",
              "       7, 3, 1, 2, 7, 8, 3, 6, 0, 0, 6, 0, 4, 9, 3, 0, 8, 8, 2, 9, 0, 3,\n",
              "       6, 3, 1, 6, 5, 0, 1, 1, 5, 6, 3, 1, 4, 0, 9, 8, 7, 5, 2, 5, 2, 6,\n",
              "       7, 0, 7, 2, 0, 2, 7, 1, 8, 6, 5, 6, 3, 2, 6, 2, 7, 1, 1, 6, 9, 3,\n",
              "       4, 4, 1, 2, 3, 6, 6, 2, 0, 7, 0, 8, 4, 0, 7, 0, 9, 3, 1, 5, 8, 7,\n",
              "       2, 8, 9, 0, 7, 4, 1, 9, 6, 1, 1, 7, 5, 0, 0, 5, 4, 6, 9, 9, 9, 1,\n",
              "       6, 2, 3, 0, 7, 2, 8, 1, 9, 3, 9, 0, 9, 0, 9, 4, 8, 4, 2, 7, 1, 7,\n",
              "       3, 5, 0, 4, 6, 0, 6, 5, 4, 2, 2, 0, 1, 2, 6, 1, 6, 5, 0, 8, 3, 6,\n",
              "       1, 4, 1, 2, 0, 7, 3, 3, 4, 9, 2, 8, 8, 5, 1, 0, 0, 4, 4, 1, 2, 9,\n",
              "       5, 6, 1, 3, 1, 2, 4, 5, 9, 6, 3, 6, 3, 7, 6, 0, 5, 5, 4, 9, 9, 4,\n",
              "       1, 0, 8, 8, 4, 3, 2, 3, 9, 8, 0, 9, 1, 2, 4, 3, 8, 2, 1, 6, 5, 4,\n",
              "       4, 1, 8, 9, 6, 5, 5, 1, 3, 5, 6, 0, 8, 4, 0, 0, 0, 3, 3])"
            ]
          },
          "metadata": {},
          "execution_count": 49
        }
      ]
    },
    {
      "cell_type": "markdown",
      "source": [
        "## **Model Evaluation**"
      ],
      "metadata": {
        "id": "vhAwWfG0jFun"
      }
    },
    {
      "cell_type": "code",
      "source": [
        "from sklearn.metrics import confusion_matrix,classification_report\n",
        "confusion_matrix(y_test,y_pred)\n",
        "print(classification_report(y_test,y_pred))"
      ],
      "metadata": {
        "id": "JLebGzDJjknA",
        "colab": {
          "base_uri": "https://localhost:8080/"
        },
        "outputId": "70552eb1-8852-44a1-8ceb-fbb7c9c545c8"
      },
      "execution_count": null,
      "outputs": [
        {
          "output_type": "stream",
          "name": "stdout",
          "text": [
            "              precision    recall  f1-score   support\n",
            "\n",
            "           0       0.95      0.98      0.96        83\n",
            "           1       0.78      0.82      0.80        94\n",
            "           2       0.78      0.80      0.79        89\n",
            "           3       0.86      0.78      0.82       102\n",
            "           4       0.82      0.91      0.86        96\n",
            "           5       0.93      0.93      0.93        83\n",
            "           6       0.90      0.90      0.90        88\n",
            "           7       0.93      0.85      0.89        98\n",
            "           8       0.74      0.71      0.73        77\n",
            "           9       0.78      0.80      0.79        89\n",
            "\n",
            "    accuracy                           0.85       899\n",
            "   macro avg       0.85      0.85      0.85       899\n",
            "weighted avg       0.85      0.85      0.85       899\n",
            "\n"
          ]
        }
      ]
    },
    {
      "cell_type": "markdown",
      "source": [],
      "metadata": {
        "id": "Ybi8FR9Kjv00"
      }
    }
  ]
}